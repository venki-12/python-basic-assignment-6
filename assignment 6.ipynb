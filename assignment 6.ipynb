{
 "cells": [
  {
   "cell_type": "raw",
   "metadata": {},
   "source": [
    " #1. What are escape characters, and how do you use them?\n",
    " # To insert characters that are illegal in a string,  we use an escape character.\n",
    "# escape sequences allow to use special character in strings.\n",
    "\n",
    "s = 'Hey, what\\'s up?'\n",
    "y = \"Multiline strings\\ncan be created\\nusing escape sequences.\"\n",
    "z = \"C:\\\\Users\\\\Pat\\\\Desktop\""
   ]
  },
  {
   "cell_type": "code",
   "execution_count": 7,
   "metadata": {},
   "outputs": [
    {
     "name": "stdout",
     "output_type": "stream",
     "text": [
      "Multiline strings\n",
      "can be created\n",
      "using escape sequences.\n",
      "How's your\tday?\n"
     ]
    }
   ],
   "source": [
    "# 2. What do the escape characters n and t stand for?\n",
    "#  n - statement after n will be printed in new line.\n",
    "print(\"Multiline strings\\ncan be created\\nusing escape sequences.\")\n",
    "\n",
    "#  t - statement after t will be printed after TAB space\n",
    "print(\"How's your\\tday?\")"
   ]
  },
  {
   "cell_type": "code",
   "execution_count": 10,
   "metadata": {},
   "outputs": [
    {
     "name": "stdout",
     "output_type": "stream",
     "text": [
      "C:\\Users\\Pat\\Desktop\n"
     ]
    }
   ],
   "source": [
    "# 3. What is the way to include backslash characters in a string?\n",
    "print(\"C:\\\\Users\\\\Pat\\\\Desktop\")\n",
    "# we have use double backlash to include backlash in strings."
   ]
  },
  {
   "cell_type": "code",
   "execution_count": 13,
   "metadata": {},
   "outputs": [
    {
     "name": "stdout",
     "output_type": "stream",
     "text": [
      "Howl's Moving Castle\n"
     ]
    }
   ],
   "source": [
    "#4. The string \"Howl's Moving Castle\" is a correct value. Why isn't the single quote character in the word Howl's not escaped a problem?\n",
    "print(\"Howl's Moving Castle\")\n",
    "# becuase we are enclosed string with double quotes so single quote will not create a problem in code."
   ]
  },
  {
   "cell_type": "code",
   "execution_count": 17,
   "metadata": {},
   "outputs": [
    {
     "name": "stdout",
     "output_type": "stream",
     "text": [
      "This is first line\n",
      "this is second line\n",
      "this is third line\n"
     ]
    }
   ],
   "source": [
    "#5. How do you write a string of newlines if you don't want to use the n character?\n",
    "a = \"\"\"This is first line\n",
    "this is second line\n",
    "this is third line\"\"\"\n",
    "print(a)\n",
    "# by using triple quotes we can write multiline strings ."
   ]
  },
  {
   "cell_type": "code",
   "execution_count": 22,
   "metadata": {},
   "outputs": [
    {
     "data": {
      "text/plain": [
       "'lo, world!'"
      ]
     },
     "execution_count": 22,
     "metadata": {},
     "output_type": "execute_result"
    }
   ],
   "source": [
    "# 6. What are the values of the given expressions?\n",
    "'Hello, world!'[1] # out put is e\n",
    "'Hello, world!'[0:5]# output is Hllo\n",
    "'Hello, world!'[:5] # output is Hello\n",
    "'Hello, world!'[3:] # output is lo,world!"
   ]
  },
  {
   "cell_type": "code",
   "execution_count": 28,
   "metadata": {},
   "outputs": [
    {
     "data": {
      "text/plain": [
       "'hello'"
      ]
     },
     "execution_count": 28,
     "metadata": {},
     "output_type": "execute_result"
    }
   ],
   "source": [
    "#7. What are the values of the following expressions?\n",
    "'Hello'.upper() # string will be converted to upper case so output will be 'HELLO'\n",
    "'Hello'.upper().isupper() # it will convert string to upper case and it will check for does string is in uppercase, so out put will be True(boolean) \n",
    "'Hello'.upper().lower()  # it will first convert string to upper and then to lower so output is 'hello'"
   ]
  },
  {
   "cell_type": "code",
   "execution_count": 36,
   "metadata": {},
   "outputs": [
    {
     "data": {
      "text/plain": [
       "'There-can-only-one.'"
      ]
     },
     "execution_count": 36,
     "metadata": {},
     "output_type": "execute_result"
    }
   ],
   "source": [
    "# 8. What are the values of the following expressions?\n",
    "'Remember, remember, the fifth of July.'.split()\n",
    "# it will separate each word of string and stores it in a list as elements\n",
    "\n",
    "'-'.join('There can only one.'.split())\n",
    "# it will insert -(dash) after each word of string by default it takes space as argument"
   ]
  },
  {
   "cell_type": "code",
   "execution_count": 51,
   "metadata": {},
   "outputs": [
    {
     "name": "stdout",
     "output_type": "stream",
     "text": [
      "The right aligned string is : \n",
      "*********************I love data science\n",
      "The left alligned string is : \n",
      "I love data science*********************\n",
      "The right aligned string is : \n",
      "**********I love data science***********\n"
     ]
    }
   ],
   "source": [
    "# 9. What are the methods for right-justifying, left-justifying, and centering a string?\n",
    "rstr = 'I love data science'\n",
    "print (\"The right aligned string is : \")\n",
    "print (rstr.rjust(40, '*'))\n",
    "# we use .rjust to right justifying a string\n",
    "\n",
    "rstr = 'I love data science'\n",
    "print (\"The left alligned string is : \")\n",
    "print (rstr.ljust(40,'*'))\n",
    "#  we use .lust to left justifying a string\n",
    "\n",
    "rstr = 'I love data science'\n",
    "print (\"The right aligned string is : \")\n",
    "print (rstr.center(40,'*'))\n",
    "# we use center centering a string\n",
    "\n",
    "# where 40 is given as width it makes length of string into 40 and allign string asper input.\n",
    "\n"
   ]
  },
  {
   "cell_type": "code",
   "execution_count": 58,
   "metadata": {},
   "outputs": [
    {
     "data": {
      "text/plain": [
       "'Hi how are doing.'"
      ]
     },
     "execution_count": 58,
     "metadata": {},
     "output_type": "execute_result"
    }
   ],
   "source": [
    "# 10. What is the best way to remove whitespace characters from the start or end?\n",
    " # we use lstrip() or rstrip() function to remove white spaces from start or emd\n",
    "check = '   Hi how are doing.     '\n",
    "check.lstrip()\n",
    "check.rstrip()\n",
    "check.strip()  # this removes white spaces from froth ends ofa string"
   ]
  }
 ],
 "metadata": {
  "kernelspec": {
   "display_name": "Python 3",
   "language": "python",
   "name": "python3"
  },
  "language_info": {
   "codemirror_mode": {
    "name": "ipython",
    "version": 3
   },
   "file_extension": ".py",
   "mimetype": "text/x-python",
   "name": "python",
   "nbconvert_exporter": "python",
   "pygments_lexer": "ipython3",
   "version": "3.8.5"
  }
 },
 "nbformat": 4,
 "nbformat_minor": 4
}
